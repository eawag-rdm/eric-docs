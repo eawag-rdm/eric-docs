{
 "cells": [
  {
   "cell_type": "markdown",
   "metadata": {
    "editable": true,
    "slideshow": {
     "slide_type": ""
    },
    "tags": []
   },
   "source": [
    "(quickstart-guide)=\n",
    "# Quickstart"
   ]
  },
  {
   "cell_type": "markdown",
   "metadata": {
    "editable": true,
    "slideshow": {
     "slide_type": ""
    },
    "tags": []
   },
   "source": [
    "(get-your-data-ready)=\n",
    "## Get your data ready\n",
    "\n",
    "This is usually the most time-intensive step, unless you have followed good data management practices during your research. Please follow the [Eawag Research Data Publishing and Archiving Guide](research-data-publishing-guide).\n",
    "\n",
    "Ensure you:\n",
    "1. Provide a [proper README-file](documentation-scientific-metadata) **as a separate upload**.\n",
    "2. Have selected the relevant data and it is in good shape, starting with proper [file-names](file-naming), reviewing the [file-formats](file-formats) used, and making sure there are no garbage-files (such as `.DS_Store`, `__MACOSX`, MS-Office lockfiles, `*.pyc`, ...) lying around anymore.\n",
    "3. Have [structured your data](folder-structure-and-file-archives) in a suitable way into a collection of files (and/or archive-files) that gives consideration to file-content, file-sizes, and metadata-consistency.\n",
    "\n",
    "```{note}\n",
    "If you want to publish your data as **Open Data**, ensure you have the right to publish the package's content and that the files of the package that are not in the public domain (software, articles, presentations, graphics, prose, ...) are annotated with the necessary copyright- and licensing information.\n",
    "```"
   ]
  },
  {
   "cell_type": "markdown",
   "metadata": {
    "editable": true,
    "slideshow": {
     "slide_type": ""
    },
    "tags": []
   },
   "source": [
    "(first-time-eric-user)=\n",
    "## You are a first time ERIC user and want to upload data?\n",
    "\n",
    "1. You account needs to be activated - go to [ERIC/internal](https://data.eawag.ch) (*{octicon}`alert-fill;1em;sd-text-danger` only accessible from Eawag intranet*) and log in with your Eawag **username** (not email) and **password**.\n",
    "\n",
    "```{important}\n",
    "You must be in the Eawag network to access [ERIC/internal](https://data.eawag.ch). If you're not in the Eawag network you will be redirected to [ERIC/open](https://opendata.eawag.ch).\n",
    "```"
   ]
  },
  {
   "cell_type": "markdown",
   "metadata": {
    "editable": true,
    "slideshow": {
     "slide_type": ""
    },
    "tags": []
   },
   "source": [
    "```{margin}\n",
    "![Packages Button](../_static/images/packages_button.png)\n",
    "![Add Package Button](../_static/images/add_package_button.png)\n",
    "```"
   ]
  },
  {
   "cell_type": "markdown",
   "metadata": {
    "editable": true,
    "slideshow": {
     "slide_type": ""
    },
    "tags": []
   },
   "source": [
    "2. To upload data you will need the right permissions. To verify the current user permissions you have click on **Packages**.\n",
    "   \n",
    "\n",
    "   Do you see the **Add Packages** button?\n",
    "   - **YES** -> Click on it and continue to the section [Get your data ready](get-your-data-ready).\n",
    "   - **NO** -> You don't have permission to upload data yet. Continue with section [How to get permission to upload?](how-to-get-permissions-to-upload)."
   ]
  },
  {
   "cell_type": "markdown",
   "metadata": {
    "editable": true,
    "slideshow": {
     "slide_type": ""
    },
    "tags": []
   },
   "source": [
    "## Create a data package\n",
    "\n",
    "1. Hit the **Add Package** button.\n",
    "2. Fill in all metadata that are useful to describe your package."
   ]
  },
  {
   "cell_type": "markdown",
   "metadata": {
    "editable": true,
    "slideshow": {
     "slide_type": ""
    },
    "tags": []
   },
   "source": [
    "```{margin}\n",
    "![Info Circle](../_static/images/info_circle.png)\n",
    "![Add Data Button](../_static/images/add_data_button.png)\n",
    "```"
   ]
  },
  {
   "cell_type": "markdown",
   "metadata": {
    "editable": true,
    "slideshow": {
     "slide_type": ""
    },
    "tags": []
   },
   "source": [
    "```{note}\n",
    "If you are doing this for the first time, please read the **help-text** carefully for each field! The help-text will be displayed when you click on the **i**nformation button.\n",
    "```\n",
    "\n",
    "3. If it is not clear what to put in a field (or if anything at all), get in touch with your group's data manager or write to [rdm@eawag.ch](mailto:rdm@eawag.ch).\n",
    "4. Once the metadata for the package is complete, click the **Next: Add Data** button at the bottom of the page.\n"
   ]
  },
  {
   "cell_type": "markdown",
   "metadata": {
    "editable": true,
    "slideshow": {
     "slide_type": ""
    },
    "tags": []
   },
   "source": [
    "## Uploading data"
   ]
  },
  {
   "cell_type": "markdown",
   "metadata": {
    "editable": true,
    "slideshow": {
     "slide_type": ""
    },
    "tags": []
   },
   "source": [
    "```{margin}\n",
    "![File Upload Button](../_static/images/file_upload_button.png)\n",
    "![Resource Fields](../_static/images/resource_fields.png)\n",
    "![Save and Add Another Button](../_static/images/save_and_add_another_button.png)\n",
    "```"
   ]
  },
  {
   "cell_type": "markdown",
   "metadata": {
    "editable": true,
    "slideshow": {
     "slide_type": ""
    },
    "tags": []
   },
   "source": [
    "In the web-interface, files are uploaded one-by-one. Also, very large files are sometimes problematic to upload over HTTP.\n",
    "\n",
    "```{note}\n",
    "If you want to automate this process check out the [automation guide](automation-guide).\n",
    "```\n",
    "\n",
    "1. Hit the **Upload** button and select the first file you want to upload.\n",
    "2. Unless you have a very good reason, leave the filename in the **Name** field unchanged.\n",
    "3. Make sure the **Resource Type** is set correctly.\n",
    "4. Hit the **Save & Add Another** button for the next file, or **Finish**."
   ]
  },
  {
   "cell_type": "markdown",
   "metadata": {
    "editable": true,
    "slideshow": {
     "slide_type": ""
    },
    "tags": []
   },
   "source": [
    "```{margin}\n",
    "![Organizations Button](../_static/images/organizations_button.png)\n",
    "![Research Group](../_static/images/research_group.png)\n",
    "![About Tab](../_static/images/about_tab.png)\n",
    "![Tobias](../_static/images/tobias.png)\n",
    "```"
   ]
  },
  {
   "cell_type": "markdown",
   "metadata": {
    "editable": true,
    "slideshow": {
     "slide_type": ""
    },
    "tags": []
   },
   "source": [
    "(how-to-get-permissions-to-upload)=\n",
    "## How to get permission to upload\n",
    "\n",
    "First you need to find out who the **data manger** for your research group is:\n",
    "\n",
    "1. Find your **Organization**.\n",
    "2. Click on **About** and the **data manger** will be displayed. \n",
    "\n",
    "Now you can ask to get **editor** permissions. Once granted, the **Add Package** button should appear.\n",
    "\n",
    "```{warning}\n",
    "If there are any issues, please contact [rdm@eawag.ch](mailto:rdm@eawag.ch).\n",
    "```"
   ]
  },
  {
   "cell_type": "markdown",
   "metadata": {},
   "source": [
    "## Managing ERIC permissions\n",
    "\n",
    "If you are a **data manager** and need to give a new user permissions but can't remember how to do that, watch this video:\n"
   ]
  },
  {
   "cell_type": "markdown",
   "metadata": {},
   "source": [
    "<video controls width=\"100%\">\n",
    "  <source src=\"../_static/images/eric-rights-management.mp4\" type=\"video/mp4\">\n",
    "  Your browser does not support the video tag.\n",
    "</video>"
   ]
  },
  {
   "cell_type": "markdown",
   "metadata": {},
   "source": []
  }
 ],
 "metadata": {
  "kernelspec": {
   "display_name": "Python 3 (ipykernel)",
   "language": "python",
   "name": "python3"
  },
  "language_info": {
   "codemirror_mode": {
    "name": "ipython",
    "version": 3
   },
   "file_extension": ".py",
   "mimetype": "text/x-python",
   "name": "python",
   "nbconvert_exporter": "python",
   "pygments_lexer": "ipython3",
   "version": "3.11.6"
  },
  "widgets": {
   "application/vnd.jupyter.widget-state+json": {
    "state": {},
    "version_major": 2,
    "version_minor": 0
   }
  }
 },
 "nbformat": 4,
 "nbformat_minor": 4
}
