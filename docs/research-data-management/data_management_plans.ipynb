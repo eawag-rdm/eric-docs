{
 "cells": [
  {
   "cell_type": "markdown",
   "id": "00c20ed4-32f9-4b3d-8063-46795a2db93e",
   "metadata": {},
   "source": [
    "# Data Management Plans\n",
    "\n",
    "SNF Guide: https://www.snf.ch/media/en/4i9AE5YEIf7tqhGz/DMP_content_mySNF-form_en.pdf\n",
    "https://www.snf.ch/en/dMILj9t4LNk8NwyR/topic/open-research-data\n",
    "ETH Guide: https://library.ethz.ch/en/researching-and-publishing/data-management-and-policies/research-data-management/data-management-planning.html\n",
    "Lib4ri: https://www.lib4ri.ch/research-data-management-resources\n"
   ]
  }
 ],
 "metadata": {
  "kernelspec": {
   "display_name": "Python 3 (ipykernel)",
   "language": "python",
   "name": "python3"
  },
  "language_info": {
   "codemirror_mode": {
    "name": "ipython",
    "version": 3
   },
   "file_extension": ".py",
   "mimetype": "text/x-python",
   "name": "python",
   "nbconvert_exporter": "python",
   "pygments_lexer": "ipython3",
   "version": "3.11.6"
  }
 },
 "nbformat": 4,
 "nbformat_minor": 5
}
