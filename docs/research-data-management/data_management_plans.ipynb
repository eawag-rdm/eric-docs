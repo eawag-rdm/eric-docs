{
 "cells": [
  {
   "cell_type": "markdown",
   "id": "00c20ed4-32f9-4b3d-8063-46795a2db93e",
   "metadata": {},
   "source": [
    "# Data Management Plans\n",
    "\n",
    "Nowadays, a Data Management Plan (DMP) is required by many funders, such as the [Swiss National Science Foundation](https://www.snf.ch/en). The DMP ensures proper handling of data throughout the project, including long-term preservation and compliance with open access and FAIR data principles. The [ETH Guide](https://library.ethz.ch/en/researching-and-publishing/data-management-and-policies/research-data-management/data-management-planning.html) on the subject is very concise and packed with useful information.\n",
    "\n",
    "**SNF specific guides**\n",
    "- [SNF DMP Guide](https://www.snf.ch/media/en/4i9AE5YEIf7tqhGz/DMP_content_mySNF-form_en.pdf)\n",
    "- [SNF Topic Open Research Data](https://www.snf.ch/en/dMILj9t4LNk8NwyR/topic/open-research-data)\n",
    "\n",
    "**Eawag DMP Template**\n",
    " - [DMP template](https://www.internal.eawag.ch/fileadmin_intranet/intranet/rechtsgrundlagen/wsg_regelungen/wsg/2020/dmp.pdf) (*{octicon}`alert-fill;1em;sd-text-danger` only accessible from Eawag intranet*)\n",
    "\n",
    "If you do have any questions please contact: [rdm@eawag.ch](mailto:rdm@eawag.ch)\n"
   ]
  }
 ],
 "metadata": {
  "kernelspec": {
   "display_name": "Python 3 (ipykernel)",
   "language": "python",
   "name": "python3"
  },
  "language_info": {
   "codemirror_mode": {
    "name": "ipython",
    "version": 3
   },
   "file_extension": ".py",
   "mimetype": "text/x-python",
   "name": "python",
   "nbconvert_exporter": "python",
   "pygments_lexer": "ipython3",
   "version": "3.11.6"
  }
 },
 "nbformat": 4,
 "nbformat_minor": 5
}
