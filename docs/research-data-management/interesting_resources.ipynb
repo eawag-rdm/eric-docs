{
 "cells": [
  {
   "cell_type": "markdown",
   "id": "533b8609-8020-4c46-b6f1-73fc5c6c2c8a",
   "metadata": {},
   "source": [
    "# Interesting Resources"
   ]
  },
  {
   "cell_type": "markdown",
   "id": "f4715379-6c6b-4f62-a2a6-c01ff1a9ef6a",
   "metadata": {},
   "source": []
  },
  {
   "cell_type": "markdown",
   "id": "bdccd185-821c-4e1a-8666-1c7e13b10a53",
   "metadata": {},
   "source": [
    "## {octicon}`book;1em` [The Turing Way - handbook to reproducible, ethical and collaborative data science](https://the-turing-way.netlify.app/index.html)\n",
    "\n",
    "An excellent reference if you want to learn more about any aspect of research data management. This guide both explains concepts such as versioning, computer environments and metadata, and offer plenty of hands-on advice. It is a community-driven project funded by the Alan Turing Institute, UK.[^Lib4RI]\n",
    "\n",
    "\n",
    "## {octicon}`globe;1em` [RDMkit - The research data management toolkit for life sciences](https://rdmkit.elixir-europe.org/)\n",
    "\n",
    "Best practices and guidelines to support your research data management needs. Particularly useful for more specialized advice, as you can easily navigate resources depending on your role, research field or European country to find tailored information. RDMkit is a community-built resource led by ELIXIR and funded by the European Union.[^Lib4RI]\n",
    "\n",
    "\n",
    "## {octicon}`globe;1em` [Library of Congress - File Formats](http://www.loc.gov/preservation/resources/rfs/index.html)\n",
    "\n",
    "It is difficult to give comprehensive advice on file formats suited for archiving and digital preservation. The Library of Congress (LoC) Recommended Formats Statement is a good starting point, as is the List of archivable File Formats of the Swiss Federal Archives.\n",
    "\n",
    ":::{admonition} Rules of Thumb\n",
    ":class: dropdown, tip\n",
    "- Avoid proprietary formats (prefer standardized ones)\n",
    "- Avoid pseudo-standards, such as xlsx, docx, which you can recognize by the fact that there do not exist multiple implementations across different applications and platforms.\n",
    "- Anything \"plain text\" that is not pure ASCII should be UTF-8 encoded.\n",
    "- Simpler is better (as long as no info is lost).\n",
    "- If your original data comes in a \"low-quality\" format (e.g. MP3, GIF, ...) just keep it like that.\n",
    ":::\n",
    "\n",
    "## {octicon}`globe;1em` [Research Data Life-Cycle Management](https://www.dlcm.ch/about-us/dlcm-project)\n",
    "\n",
    "A large, national-level project that aims at providing guidelines, training activities, policy support and various tools to support researchers and their institutions in all aspects of data management.\n",
    "\n",
    "\n",
    "## {octicon}`globe;1em` [Metadata Standards](http://rd-alliance.github.io/metadata-directory/standards/)\n",
    "\n",
    "Maintained by the RDA Metadata Standards Directory Working Group, this directory lists a large number of (mostly) domain-specific metadata standards. Look here first if you are looking for a system to annotate your data that is established for your field of research. \n",
    "\n",
    "\n"
   ]
  },
  {
   "cell_type": "markdown",
   "id": "764b0cf7-422f-49ca-bbd2-04c59d065be9",
   "metadata": {},
   "source": [
    "[^Lib4RI]: [Lib4RI resources on research data mangement, 2024](https://www.lib4ri.ch/research-data-management-resources)"
   ]
  }
 ],
 "metadata": {
  "kernelspec": {
   "display_name": "Python 3 (ipykernel)",
   "language": "python",
   "name": "python3"
  },
  "language_info": {
   "codemirror_mode": {
    "name": "ipython",
    "version": 3
   },
   "file_extension": ".py",
   "mimetype": "text/x-python",
   "name": "python",
   "nbconvert_exporter": "python",
   "pygments_lexer": "ipython3",
   "version": "3.11.6"
  }
 },
 "nbformat": 4,
 "nbformat_minor": 5
}
