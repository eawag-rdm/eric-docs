{
 "cells": [
  {
   "cell_type": "markdown",
   "id": "533b8609-8020-4c46-b6f1-73fc5c6c2c8a",
   "metadata": {},
   "source": [
    "# Interesting Resources"
   ]
  },
  {
   "cell_type": "markdown",
   "id": "a6b47235-213d-41ba-93b0-f28854822a8a",
   "metadata": {},
   "source": []
  }
 ],
 "metadata": {
  "kernelspec": {
   "display_name": "Python 3 (ipykernel)",
   "language": "python",
   "name": "python3"
  },
  "language_info": {
   "codemirror_mode": {
    "name": "ipython",
    "version": 3
   },
   "file_extension": ".py",
   "mimetype": "text/x-python",
   "name": "python",
   "nbconvert_exporter": "python",
   "pygments_lexer": "ipython3",
   "version": "3.11.6"
  }
 },
 "nbformat": 4,
 "nbformat_minor": 5
}
