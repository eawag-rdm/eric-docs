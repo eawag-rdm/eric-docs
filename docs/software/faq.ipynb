{
 "cells": [
  {
   "cell_type": "markdown",
   "id": "019d8b97-fa3a-4f57-814a-00d0fb74c933",
   "metadata": {},
   "source": [
    "# FAQ"
   ]
  },
  {
   "cell_type": "markdown",
   "id": "f69c58ad-8aa4-4e51-9035-67a7d8ab3071",
   "metadata": {
    "editable": true,
    "slideshow": {
     "slide_type": ""
    },
    "tags": []
   },
   "source": [
    "::::{dropdown} **How to work with Git at Eawag?**\n",
    ":icon: discussion-closed\n",
    "\n",
    "\n",
    "### Get it\n",
    "\n",
    "Git is not a \"server.\" Git is a program that you can install on your personal computer:  \n",
    "[https://git-scm.com/downloads](https://git-scm.com/downloads)\n",
    "\n",
    "### Use it\n",
    "\n",
    "To use it, you have to learn some basic concepts and a handful of commands. If you put in a day to read and experiment, you're likely set for 90% of all tasks you ever want to accomplish with Git. Here are some resources to help you:\n",
    "\n",
    "- In case you are new to the command line interface (\"Terminal\") start with [this short introduction](https://programminghistorian.org/en/lessons/intro-to-bash).\n",
    "- [Juri Strumpflohner's _Git Explained: For Beginners_](https://juristr.com/blog/2013/04/git-explained/)\n",
    "- An excellent 4-hour free online course: [DataCamp: Git Introduction](https://www.datacamp.com/courses/introduction-to-git-for-data-science)\n",
    "- [The \"Get Started\" - Chapter of the Atlassian Git Tutorial](https://www.atlassian.com/git/tutorials/setting-up-a-repository)\n",
    "- [Pro Git: The Book](https://git-scm.com/book/en/v2)\n",
    "- [Charles Duan's _Understanding Git Conceptually_](https://www.sbf5.com/~cduan/technical/git/) will teach you a deeper and more useful understanding of basic Git usage.\n",
    "- If tutorials are not your thing, check out [Atlassian's Basic Git commands](https://confluence.atlassian.com/bitbucketserver/basic-git-commands-776639767.html) to guide your experimentation.\n",
    "\n",
    "### Show it\n",
    "\n",
    "When you say \"server\" you probably think of services such as [GitHub.com](http://github.com) and [GitLab.com](https://gitlab.com). These are places where you can \"push\" or synchronize your local git repository to make it visible to other people. They make it easy to browse your files and their history and also provide advanced collaboration and development features.\n",
    "\n",
    "Such services are useful to **showcase your work** and to **collaborate** with others. They are an unnecessary distraction if you just want to improve your personal data management.\n",
    "\n",
    "There are many free high-quality hosting services of this kind. This is the reason we don't provide another one at Eawag -- it is simply not necessary.\n",
    "\n",
    "To pick one, your main guide should be the fact that collaboration features do not work across different providers. If you want to contribute to or make use of projects mostly hosted on one specific service, use the same. **Ask in your research group whether there is already a convention established.**\n",
    "\n",
    "Here are the best ones:\n",
    "\n",
    "### Commercial\n",
    "\n",
    "Even though all commercial providers listed here allow for \"private\" repositories, **none of them should be trusted with sensitive information** such as personal data!\n",
    "\n",
    "- [GitHub](https://github.com): The largest and most well-known service today. Choose GitHub if it is important that your repository shows up on Google or if your project uses code or other material from projects that are also hosted there.\n",
    "- [GitLab](https://gitlab.com/users/sign_in): Smaller competitor of GitHub.\n",
    "- [Bitbucket](https://bitbucket.org/account/signup/): High-quality service of about the same size as GitLab. It is run by [Atlassian](https://en.wikipedia.org/wiki/Atlassian) and has outstanding documentation.\n",
    "\n",
    "### Community\n",
    "\n",
    "- [c4science.ch](https://c4science.ch/): Infrastructure for scientific code co-creation, curation, sharing, and testing. Available to the entire Swiss universities community and accessible to external collaborators. Hosted on [SWITCHengines](https://www.switch.ch/engines/), managed by [EPFL-SCITAS](http://scitas.epfl.ch/), created via [EnhanceR](https://www.enhancer.ch/), a [Swissuniversities](https://www.swissuniversities.ch/) funded project. **That appears to be the most reliable and trustworthy option at the moment.**\n",
    "- [gitlab.switch.ch](https://gitlab.switch.ch): A server for Git repositories, issue trackers, continuous integration, and more. Run by [SWITCH](https://www.switch.ch/). This is not an official service of SWITCH, but provided on a best-efforts basis.\n",
    "\n",
    ":::{warning}\n",
    "All these web-services have to be regarded as ephemeral. Do not rely on them as \"master repository\"! Assume your Git web-service disappears tomorrow, including everything you put there.\n",
    ":::\n",
    "\n",
    ":::{tip}\n",
    "It is quite easy to keep an automatically synchronized copy on Eawag internal storage:\n",
    "\n",
    "1. Create a \"bare\" repository in a backed-up location, e.g.  \n",
    "   ```bash\n",
    "   git init --bare path/to/secure/location/myrepo.git\n",
    "   ```\n",
    "3. Usually, the name of the \"remote\" at the web-service is \"origin\" (automatically assigned if you clone a repository, say, from GitHub). Set a \"pushurl\" for \"origin\" to both, the GitHub URL and to your secure local copy, e.g.:\n",
    "   ```bash\n",
    "   git remote set-url --add --push origin https://github.com/username/myrepo.git\n",
    "   git remote set-url --add --push origin path/to/secure/location/myrepo.git\n",
    "   ```\n",
    "Now, each time you \"push\" your repository, both the one at GitHub and the local one are updated.\n",
    "And don't worry, the commands above are way more complicated than anything you'd ever use in day-to-day work.\n",
    ":::\n",
    "::::"
   ]
  },
  {
   "cell_type": "markdown",
   "id": "c2ea9fd4-16ea-43ff-94d5-bb6b1766dcd3",
   "metadata": {
    "editable": true,
    "slideshow": {
     "slide_type": ""
    },
    "tags": []
   },
   "source": [
    "\n"
   ]
  }
 ],
 "metadata": {
  "kernelspec": {
   "display_name": "Python 3 (ipykernel)",
   "language": "python",
   "name": "python3"
  },
  "language_info": {
   "codemirror_mode": {
    "name": "ipython",
    "version": 3
   },
   "file_extension": ".py",
   "mimetype": "text/x-python",
   "name": "python",
   "nbconvert_exporter": "python",
   "pygments_lexer": "ipython3",
   "version": "3.11.6"
  }
 },
 "nbformat": 4,
 "nbformat_minor": 5
}
