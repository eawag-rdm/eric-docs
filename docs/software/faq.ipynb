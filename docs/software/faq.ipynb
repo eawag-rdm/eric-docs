{
 "cells": [
  {
   "cell_type": "markdown",
   "id": "019d8b97-fa3a-4f57-814a-00d0fb74c933",
   "metadata": {},
   "source": [
    "# FAQ"
   ]
  },
  {
   "cell_type": "markdown",
   "id": "f69c58ad-8aa4-4e51-9035-67a7d8ab3071",
   "metadata": {
    "editable": true,
    "slideshow": {
     "slide_type": ""
    },
    "tags": []
   },
   "source": [
    ":::::{dropdown} **How to work with Git at Eawag?**\n",
    ":icon: discussion-closed\n",
    "\n",
    "The most widespread modern **version control system** on the planet today is **Git**. Originally developed in 2005 by Linus Torvalds, the famous creator of the Linux operating system kernel, Git is a mature, actively maintained open source project. Do not confuse Git with GitHub/GitLab/... the latter are platforms for managing Git repositories.\n",
    "\n",
    "::::{admonition} Installation\n",
    ":class: dropdown\n",
    "You can download it on the official web page: \n",
    "[https://git-scm.com/downloads](https://git-scm.com/downloads)\n",
    "::::\n",
    "\n",
    "::::{admonition} Usage Guides\n",
    ":class: dropdown\n",
    "\n",
    "To use it, you have to learn some basic concepts and a handful of commands. If you put in a day to read and experiment, you're likely set for 90% of all tasks you ever want to accomplish with Git. Here are some resources to help you:\n",
    "\n",
    "- [Juri Strumpflohner's _Git Explained: For Beginners_](https://juristr.com/blog/2013/04/git-explained/)\n",
    "- [The \"Get Started\" - Chapter of the Atlassian Git Tutorial](https://www.atlassian.com/git/tutorials/setting-up-a-repository)\n",
    "- [Pro Git: The Book](https://git-scm.com/book/en/v2)\n",
    "- If tutorials are not your thing, check out [Atlassian's Basic Git commands](https://confluence.atlassian.com/bitbucketserver/basic-git-commands-776639767.html) to guide your experimentation.\n",
    "::::\n",
    "\n",
    "\n",
    "::::{admonition} Public Repository Management Platforms\n",
    ":class: dropdown\n",
    "**Commercial**\n",
    "\n",
    "Even though all commercial providers listed here allow for \"private\" repositories, **none of them should be trusted with sensitive information** such as personal data!\n",
    "\n",
    "- [GitHub](https://github.com): The largest and most well-known service today. Choose GitHub if it is important that your repository shows up on Google or if your project uses code or other material from projects that are also hosted there.\n",
    "- [GitLab](https://gitlab.com/users/sign_in): Smaller competitor of GitHub.\n",
    "- [Bitbucket](https://bitbucket.org/account/signup/): High-quality service of about the same size as GitLab. It is run by [Atlassian](https://en.wikipedia.org/wiki/Atlassian) and has outstanding documentation.\n",
    "\n",
    "**Community**\n",
    "\n",
    "- [c4science.ch](https://c4science.ch/): Infrastructure for scientific code co-creation, curation, sharing, and testing. Available to the entire Swiss universities community and accessible to external collaborators. Hosted on [SWITCHengines](https://www.switch.ch/engines/), managed by [EPFL-SCITAS](http://scitas.epfl.ch/), created via [EnhanceR](https://www.enhancer.ch/), a [Swissuniversities](https://www.swissuniversities.ch/) funded project. **That appears to be the most reliable and trustworthy option at the moment.**\n",
    "- [gitlab.switch.ch](https://gitlab.switch.ch): A server for Git repositories, issue trackers, continuous integration, and more. Run by [SWITCH](https://www.switch.ch/). This is not an official service of SWITCH, but provided on a best-efforts basis. **This service might disappear soon.**\n",
    "::::\n",
    "\n",
    "\n",
    "\n",
    "::::{tip}\n",
    "It is quite easy to keep an automatically synchronized copy on Eawag internal storage:\n",
    "\n",
    "1. Create a \"bare\" repository in a backed-up location, e.g.  \n",
    "   ```bash\n",
    "   git init --bare path/to/secure/location/myrepo.git\n",
    "   ```\n",
    "3. Usually, the name of the \"remote\" at the web-service is \"origin\" (automatically assigned if you clone a repository, say, from GitHub). Set a \"pushurl\" for \"origin\" to both, the GitHub URL and to your secure local copy, e.g.:\n",
    "   ```bash\n",
    "   git remote set-url --add --push origin https://github.com/username/myrepo.git\n",
    "   git remote set-url --add --push origin path/to/secure/location/myrepo.git\n",
    "   ```\n",
    "Now, each time you \"push\" your repository, both the one at GitHub and the local one are updated.\n",
    "And don't worry, the commands above are way more complicated than anything you'd ever use in day-to-day work.\n",
    "::::\n",
    ":::::"
   ]
  },
  {
   "cell_type": "markdown",
   "id": "c2ea9fd4-16ea-43ff-94d5-bb6b1766dcd3",
   "metadata": {
    "editable": true,
    "slideshow": {
     "slide_type": ""
    },
    "tags": []
   },
   "source": [
    "\n"
   ]
  }
 ],
 "metadata": {
  "kernelspec": {
   "display_name": "Python 3 (ipykernel)",
   "language": "python",
   "name": "python3"
  },
  "language_info": {
   "codemirror_mode": {
    "name": "ipython",
    "version": 3
   },
   "file_extension": ".py",
   "mimetype": "text/x-python",
   "name": "python",
   "nbconvert_exporter": "python",
   "pygments_lexer": "ipython3",
   "version": "3.11.6"
  }
 },
 "nbformat": 4,
 "nbformat_minor": 5
}
