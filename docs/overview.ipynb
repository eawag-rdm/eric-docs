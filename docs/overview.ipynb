{
 "cells": [
  {
   "cell_type": "markdown",
   "metadata": {
    "editable": true,
    "slideshow": {
     "slide_type": ""
    },
    "tags": []
   },
   "source": [
    "(overview)=\n",
    "# Overview\n",
    "\n",
    "This is the official documentation for the **E**awag **R**esearch Data **I**nstitutional **R**epository - **ERIC**. If you have any questions or suggestions for improvement please create an issue [here](https://github.com/eawag-rdm/eric-docs/issues/new).\n",
    "\n",
    "## Core components\n",
    "Our repository is based on **[CKAN](https://ckan.org/)** which is one of the leading **Open Source Data Management Systems** in the world. Most of the [documentation](https://docs.ckan.org/en/2.9/user-guide.html) that CKAN offers applies also to ERIC. As we changed the looks and some functionality of our data repository from vanilla CKAN, not everything will be applicable one to one."
   ]
  },
  {
   "cell_type": "markdown",
   "metadata": {},
   "source": [
    "## ERIC - internal vs open\n",
    "Firstly we should point out, that there are two repositories. There is **ERIC/internal** and **ERIC/open**, both of these platforms were made with a different purpose in mind. \n",
    "The internal portal is designed for **data preservation** and the open portal's main purpose is **data publication**. The table below points out the main differences.\n",
    "\n",
    "\n",
    "| | **ERIC/open**    | **ERIC/internal**    |\n",
    "| --: | :---: | :---: |\n",
    "| Looks | ![open](_static/images/logo_open.gif)    | ![internal](_static/images/logo_internal.gif)    |\n",
    "| Link | opendata.eawag.ch | data.eawag.ch |\n",
    "| Accessibility | World wide | {octicon}`alert-fill` Eawag intranet |\n",
    "| Data Quality | Strictly checked | Unchecked |\n",
    "| Interaction | **Read-only** portal | **Read/write** portal |\n",
    "| Data | **Immutable** | **Mutable** |\n",
    "| Use Cases | Access published data packages | Create/edit data packages | \n",
    "\n",
    "\n",
    "```{warning}\n",
    "When trying to access **[ERIC/internal](https://data.eawag.ch)** from **outside the Eawag network** you will be redirected to **[ERIC/open](https://opendata.eawag.ch)**. If you're working remotely use the **VPN** to access **ERIC/internal**.\n",
    "```\n",
    "\n"
   ]
  },
  {
   "cell_type": "markdown",
   "metadata": {
    "editable": true,
    "slideshow": {
     "slide_type": ""
    },
    "tags": []
   },
   "source": []
  },
  {
   "cell_type": "markdown",
   "metadata": {},
   "source": []
  }
 ],
 "metadata": {
  "kernelspec": {
   "display_name": "Python 3 (ipykernel)",
   "language": "python",
   "name": "python3"
  },
  "language_info": {
   "codemirror_mode": {
    "name": "ipython",
    "version": 3
   },
   "file_extension": ".py",
   "mimetype": "text/x-python",
   "name": "python",
   "nbconvert_exporter": "python",
   "pygments_lexer": "ipython3",
   "version": "3.11.6"
  },
  "widgets": {
   "application/vnd.jupyter.widget-state+json": {
    "state": {},
    "version_major": 2,
    "version_minor": 0
   }
  }
 },
 "nbformat": 4,
 "nbformat_minor": 4
}
