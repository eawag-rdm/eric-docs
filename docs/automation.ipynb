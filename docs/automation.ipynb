{
 "cells": [
  {
   "cell_type": "markdown",
   "id": "934611a1-175d-486e-9111-33a1b5c5190e",
   "metadata": {
    "editable": true,
    "slideshow": {
     "slide_type": ""
    },
    "tags": []
   },
   "source": [
    "(automation-guide)=\n",
    "# Automation\n",
    "\n",
    "When dealing with any sort of repetetive tasks like:\n",
    " + uploading a large number of files\n",
    " + creating many packages\n",
    " + preserving your data periodically\n",
    " + analyzing information across packages \n",
    "\n",
    "you can use the **[API](https://docs.ckan.org/en/2.9/api/)** of CKAN (the core software stack of ERIC) to automate these tasks with a progamming language of your choosing."
   ]
  },
  {
   "cell_type": "markdown",
   "id": "a33be10b-b76a-4122-afbc-89830a28998f",
   "metadata": {
    "editable": true,
    "slideshow": {
     "slide_type": ""
    },
    "tags": []
   },
   "source": [
    "## Authentication\n",
    "For many things you might want to automate (like uploading data) you will need to authenticate yourself to the system, so that CKAN can check if you're authorised to for instance upload data to a certain package. For that you will need a **[token](https://docs.ckan.org/en/2.9/api/#authentication-and-api-tokens)**. If you do not yet have one please contact [rdm@eawag.ch](mailto:rdm@eawag.ch) and we will generate one for you.\n",
    "\n",
    "```{important}\n",
    "CKAN has some limitations when uploading large files (**>8GB**). If that is what you're after please contact [rdm@eawag.ch](mailto:rdm@eawag.ch).\n",
    "```"
   ]
  },
  {
   "cell_type": "markdown",
   "id": "6f4cc6b5-82c4-4eea-81a3-72b6ede46af2",
   "metadata": {
    "editable": true,
    "slideshow": {
     "slide_type": ""
    },
    "tags": []
   },
   "source": [
    "## Examples\n",
    "\n",
    "Below you will find some examples on how to use the API with **Python**. \n",
    "\n",
    "### Retrieving information about a package\n",
    "For this we can use the [package_show](https://docs.ckan.org/en/2.9/api/#ckan.logic.action.get.package_show) endpoint the CKAN API offers.\n",
    "\n",
    "First we'll define a function that can request information from the CKAN API and returns a dictionary:"
   ]
  },
  {
   "cell_type": "code",
   "execution_count": 1,
   "id": "32395fb6-5f6f-42c1-b482-e268cdbdcba9",
   "metadata": {
    "editable": true,
    "slideshow": {
     "slide_type": ""
    },
    "tags": []
   },
   "outputs": [],
   "source": [
    "import json\n",
    "from urllib.request import urlopen, Request\n",
    "\n",
    "def request_json_data(url: str, token: str | None =None) -> dict:\n",
    "    headers = {} if token is None else {'Authorization': token}\n",
    "    with urlopen(Request(url, headers=headers)) as response:\n",
    "        return json.loads(response.read().decode())"
   ]
  },
  {
   "cell_type": "markdown",
   "id": "212ea2ff-2f79-4b9d-87eb-bf97496a2c95",
   "metadata": {
    "editable": true,
    "slideshow": {
     "slide_type": ""
    },
    "tags": []
   },
   "source": [
    "Then we can request the data. As we're reading from a public dataset we do not need an API key. Mind the composition of the url:"
   ]
  },
  {
   "cell_type": "code",
   "execution_count": 13,
   "id": "54b69a75-ef3e-4e91-a3cb-294913a8d24c",
   "metadata": {
    "editable": true,
    "scrolled": true,
    "slideshow": {
     "slide_type": ""
    },
    "tags": [
     "scroll-output"
    ]
   },
   "outputs": [
    {
     "data": {
      "text/plain": [
       "{'help': 'https://opendata.eawag.ch/api/3/action/help_show?name=package_show',\n",
       " 'success': True,\n",
       " 'result': {'author': ['Rösch, Andrea',\n",
       "   'Beck, Birgit',\n",
       "   'Doppler, Tobias',\n",
       "   'Junghans, Marion',\n",
       "   'Hollender, Juliane',\n",
       "   'Stamm, Christian',\n",
       "   'Singer, Heinz'],\n",
       "  'author_email': None,\n",
       "  'citation': 'Rösch, A., Beck, B., Doppler, T., Junghans, M., Hollender, J., Stamm, C., &amp; Singer, H. (2019). <i>Data for: Geringste Konzentrationen – Grösste Wirkung</i> [Data set]. Eawag: Swiss Federal Institute of Aquatic Science and Technology. https://doi.org/10.25678/0001C7',\n",
       "  'citation_publication': 'Rösch, A., Beck, B., Hollender, J., Stamm, C., Singer, H., Doppler, T., & Junghans, M. (2019). Geringe Konzentrationen mit grosser Wirkung. Nachweis von Pyrethroid- und Organophosphatinsektiziden in Schweizer Bächen im pg l<sup>-1</sup>-Bereich. <i>Aqua &amp; Gas</i>, 99(11), 54-66.',\n",
       "  'creator_user_id': '064a4293-f097-4005-98d5-65b49b35ccf3',\n",
       "  'doi': '10.25678/0001c7',\n",
       "  'geographic_name': ['Ballmoosbach',\n",
       "   'Chrümmlisbach',\n",
       "   'Ron',\n",
       "   'Le Bainoz',\n",
       "   'Boiron de Morges',\n",
       "   'Beggingerbach'],\n",
       "  'has_part': [],\n",
       "  'id': '50eafcd5-27c2-40a1-95d6-fc671262ee92',\n",
       "  'id_internal': '',\n",
       "  'is_part_of': [],\n",
       "  'isopen': False,\n",
       "  'ispublication': 'true',\n",
       "  'license_id': None,\n",
       "  'license_title': None,\n",
       "  'maintainer': 'Doppler, Tobias',\n",
       "  'maintainer_email': 'Tobias.Doppler@eawag.ch',\n",
       "  'metadata_created': '2019-11-08T10:40:10.034952',\n",
       "  'metadata_modified': '2020-03-31T21:04:00.642138',\n",
       "  'name': 'data-for-geringste-konzentrationen-grosste-wirkung',\n",
       "  'notes': 'In sechs kleinen bis mittelgrossen Fliessgewässern wurden die für aquatische Organismen extrem toxischen Pyrethroid- und Organophosphatinsektizide mittels einer Spezialanalytik bis in den Picogramm pro-Liter Bereich quantifiziert. An fünf der sechs untersuchten Standorte überschritten die gemessenen Insektizidkonzentrationen regelmässig chronische und zum Teil akute Qualitätskriterien und die chronische Mischungsrisiko¬bewertung zeigte während 43-100% des Untersuchungszeitraums hohe Risiken für die Invertebratengemeinschaft an. Werden Pyrethroid- und Organophosphatinsektizide nicht in die Beurteilung der Gewässerqualität miteinbezogen, kann das Gesamtrisiko für aquatische Organismen erheblich unterschätzt werden. ',\n",
       "  'notes-2': '',\n",
       "  'num_resources': 3,\n",
       "  'num_tags': 6,\n",
       "  'open_data': 'true',\n",
       "  'organization': {'id': 'ad8c7050-d39a-41fb-83a8-563aae035ee7',\n",
       "   'name': 'environmental-analytical-chemistry',\n",
       "   'title': 'Environmental Analytical Chemistry',\n",
       "   'type': 'organization',\n",
       "   'description': 'Research in the group of environmental analytical chemistry focuses on development of novel methods for the analysis of organic contaminants in the aquatic environment.',\n",
       "   'image_url': 'https://www.eawag.ch/fileadmin/_processed_/csm_bitmap_c95554bc94.png',\n",
       "   'created': '2019-09-18T14:11:45.718963',\n",
       "   'is_organization': True,\n",
       "   'approval_status': 'approved',\n",
       "   'state': 'active'},\n",
       "  'owner_org': 'ad8c7050-d39a-41fb-83a8-563aae035ee7',\n",
       "  'private': False,\n",
       "  'publicationlink': '',\n",
       "  'publicationlink_dora': 'https://www.dora.lib4ri.ch/eawag/islandora/object/eawag:19547',\n",
       "  'publicationlink_url': 'https://www.eawag.ch/fileadmin/Domain1/News/2019/11/04/eawag_pyrethroide_ag_roesch.pdf',\n",
       "  'review_level': 'none',\n",
       "  'reviewed_by': '',\n",
       "  'spatial': '{\"type\": \"MultiPoint\",\"coordinates\": [[7.48096592772721,47.045354199371], [7.50967817301686,47.1233907382883],[6.81776618702072,46.8062051006771],[8.28338717661554,47.1648541498338],[8.52261321519673,47.7651854094541],[6.47793693774811,46.4938695571918] ]}',\n",
       "  'state': 'active',\n",
       "  'status': 'complete',\n",
       "  'substances': ['Chlorpyrifos (SBPBAQFWLVIOKP-UHFFFAOYSA-N)',\n",
       "   'Chlorpyrifos-methyl (HRBKVYFZANMGRE-UHFFFAOYSA-N)',\n",
       "   'Tefluthrin (ZFHGXWPMULPQSE-SZGBIDFHSA-N)',\n",
       "   'Bifenthrin (OXCDWLBJSLVWHB-LKRLXIKPSA-N)',\n",
       "   'Cypermethrin (KAATUXNTWXVJKI-UHFFFAOYSA-N)',\n",
       "   'Etofenprox (YREQHYQNNWYQCJ-UHFFFAOYSA-N)',\n",
       "   'λ-Cyhalothrin (ZXQYGBMAQZUVMI-QQDHXZELSA-N)',\n",
       "   'Cyfluthrin (OFHFONYRMVKULH-WNYJFNBPSA-N)',\n",
       "   'Deltamethrin (OWZREIFADZCYQD-NSHGMRRFSA-N)',\n",
       "   'Permethrin (RLLPVAHGXHCWKJ-UHFFFAOYSA-N)',\n",
       "   'Cyphenothrin (FJDPATXIBIBRIM-UHFFFAOYSA-N)',\n",
       "   'Empenthrin (YUGWDVYLFSETPE-JLHYYAGUSA-N)',\n",
       "   'Fenvalerat (NYPJDWWKZLNGGM-UHFFFAOYSA-N)',\n",
       "   'Metofluthrin (KVIZNNVXXNFLMU-UHFFFAOYSA-N)',\n",
       "   'Phenothrin (SBNFWQZLDJGRLK-UHFFFAOYSA-N)',\n",
       "   'Transfluthrin (DDVNRFNDOPPVQJ-HQJQHLMTSA-N)',\n",
       "   'Allethrin (ZCVAOQKBXKSDMS-UHFFFAOYSA-N)',\n",
       "   'Imiprothrin (VPRAQYXPZIFIOH-PYMCNQPYSA-N)',\n",
       "   'Prallethrin (SMKRKQBMYOFFMU-UHFFFAOYSA-N)',\n",
       "   'Tetramethrin (CXBMCYHAMVGWJQ-UHFFFAOYSA-N)',\n",
       "   'Acrinathrin (YLFSVIMMRPNPFK-WEQBUNFVSA-N)',\n",
       "   'τ-Fluvalinat (INISTDXBRIBGOC-UHFFFAOYSA-N)'],\n",
       "  'substances_generic': ['pesticides', 'insecticides', 'pyrethroids'],\n",
       "  'systems': ['stream'],\n",
       "  'tags_string': 'pesticides,Insecticides,pyrethroids,stream,toxicity,trace analytics',\n",
       "  'taxa': [],\n",
       "  'taxa_generic': [],\n",
       "  'timerange': ['2018-03 TO 2018-10', '2017-03 TO 2017-10'],\n",
       "  'title': 'Data for: Geringste Konzentrationen – Grösste Wirkung',\n",
       "  'type': 'dataset',\n",
       "  'url': 'https://doi.org/10.25678/0001c7/',\n",
       "  'variables': ['concentration'],\n",
       "  'version': None,\n",
       "  'resources': [{'allowed_users': '',\n",
       "    'cache_last_updated': None,\n",
       "    'cache_url': None,\n",
       "    'citation': '',\n",
       "    'created': '2019-11-08T10:40:10.532527',\n",
       "    'datastore_active': False,\n",
       "    'description': '',\n",
       "    'format': 'TXT',\n",
       "    'hash': '763481b753a85ee813652c7f6cd7ea389b7c67220af59809c9a117ce4230fd9d',\n",
       "    'hashtype': 'sha256',\n",
       "    'id': '016e7298-77dc-4a2d-b73e-1b68df23d038',\n",
       "    'last_modified': '2019-11-08T10:40:10.495978',\n",
       "    'metadata_modified': '2019-11-08T10:40:10.532527',\n",
       "    'mimetype': 'text/plain',\n",
       "    'mimetype_inner': None,\n",
       "    'name': 'README.txt',\n",
       "    'package_id': '50eafcd5-27c2-40a1-95d6-fc671262ee92',\n",
       "    'position': 0,\n",
       "    'resource_type': 'Text',\n",
       "    'restricted_level': 'public',\n",
       "    'size': 2766,\n",
       "    'state': 'active',\n",
       "    'url': 'https://opendata.eawag.ch/dataset/50eafcd5-27c2-40a1-95d6-fc671262ee92/resource/016e7298-77dc-4a2d-b73e-1b68df23d038/download/readme.txt',\n",
       "    'url_type': 'upload'},\n",
       "   {'allowed_users': '',\n",
       "    'cache_last_updated': None,\n",
       "    'cache_url': None,\n",
       "    'citation': '',\n",
       "    'created': '2019-11-08T10:40:11.052886',\n",
       "    'datastore_active': True,\n",
       "    'description': '',\n",
       "    'format': 'XLSX',\n",
       "    'hash': 'd81cd74c943dc3623a09d8b913a5b2b848106a44caeaafda61161d31fc82243a',\n",
       "    'hashtype': 'sha256',\n",
       "    'id': 'f4e375c5-8cd5-4e7c-8ed2-1fe32409a002',\n",
       "    'last_modified': '2019-11-08T10:40:11.014235',\n",
       "    'metadata_modified': '2019-11-08T10:40:11.052886',\n",
       "    'mimetype': 'application/vnd.openxmlformats-officedocument.spreadsheetml.sheet',\n",
       "    'mimetype_inner': None,\n",
       "    'name': 'Pyrethroids2018.xlsx',\n",
       "    'package_id': '50eafcd5-27c2-40a1-95d6-fc671262ee92',\n",
       "    'position': 1,\n",
       "    'resource_type': 'Dataset',\n",
       "    'restricted_level': 'public',\n",
       "    'size': 91055,\n",
       "    'state': 'active',\n",
       "    'url': 'https://opendata.eawag.ch/dataset/50eafcd5-27c2-40a1-95d6-fc671262ee92/resource/f4e375c5-8cd5-4e7c-8ed2-1fe32409a002/download/pyrethroids2018.xlsx',\n",
       "    'url_type': 'upload'},\n",
       "   {'allowed_users': '',\n",
       "    'cache_last_updated': None,\n",
       "    'cache_url': None,\n",
       "    'citation': '',\n",
       "    'created': '2019-11-08T10:40:11.613710',\n",
       "    'datastore_active': True,\n",
       "    'description': '',\n",
       "    'format': 'XLSX',\n",
       "    'hash': 'a22f9cbd1e563cb22daba6ac15503b9c4dcba01224156581274e70973e2ab4b0',\n",
       "    'hashtype': 'sha256',\n",
       "    'id': '35c4dcfb-a4bf-4dc4-82cf-e3360d0f08e8',\n",
       "    'last_modified': '2019-11-08T10:40:11.574932',\n",
       "    'metadata_modified': '2019-11-08T10:40:11.613710',\n",
       "    'mimetype': 'application/vnd.openxmlformats-officedocument.spreadsheetml.sheet',\n",
       "    'mimetype_inner': None,\n",
       "    'name': 'Pyrethroids2017.xlsx',\n",
       "    'package_id': '50eafcd5-27c2-40a1-95d6-fc671262ee92',\n",
       "    'position': 2,\n",
       "    'resource_type': 'Dataset',\n",
       "    'restricted_level': 'public',\n",
       "    'size': 57648,\n",
       "    'state': 'active',\n",
       "    'url': 'https://opendata.eawag.ch/dataset/50eafcd5-27c2-40a1-95d6-fc671262ee92/resource/35c4dcfb-a4bf-4dc4-82cf-e3360d0f08e8/download/pyrethroids2017.xlsx',\n",
       "    'url_type': 'upload'}],\n",
       "  'tags': [{'display_name': 'Insecticides',\n",
       "    'id': '6ef54430-e446-40d6-988b-1b0fd7fbd4c4',\n",
       "    'name': 'Insecticides',\n",
       "    'state': 'active',\n",
       "    'vocabulary_id': None},\n",
       "   {'display_name': 'pesticides',\n",
       "    'id': '0e5fa288-9c9b-4e3d-9ae4-b747113b0b3f',\n",
       "    'name': 'pesticides',\n",
       "    'state': 'active',\n",
       "    'vocabulary_id': None},\n",
       "   {'display_name': 'pyrethroids',\n",
       "    'id': '2a07cdc5-d030-4119-a165-2ee32c62ef05',\n",
       "    'name': 'pyrethroids',\n",
       "    'state': 'active',\n",
       "    'vocabulary_id': None},\n",
       "   {'display_name': 'stream',\n",
       "    'id': '9df710c2-6240-423d-8ce0-310acf883170',\n",
       "    'name': 'stream',\n",
       "    'state': 'active',\n",
       "    'vocabulary_id': None},\n",
       "   {'display_name': 'toxicity',\n",
       "    'id': 'be58b419-5bdc-4800-8b59-7bd59e5fe8f0',\n",
       "    'name': 'toxicity',\n",
       "    'state': 'active',\n",
       "    'vocabulary_id': None},\n",
       "   {'display_name': 'trace analytics',\n",
       "    'id': '8244b5de-5afc-49aa-8ca6-7e5c51e7ac74',\n",
       "    'name': 'trace analytics',\n",
       "    'state': 'active',\n",
       "    'vocabulary_id': None}],\n",
       "  'groups': [],\n",
       "  'relationships_as_subject': [],\n",
       "  'relationships_as_object': []}}"
      ]
     },
     "execution_count": 13,
     "metadata": {},
     "output_type": "execute_result"
    }
   ],
   "source": [
    "host = \"https://opendata.eawag.ch/\"  # The url of the public data repository\n",
    "api_endpoint = \"api/3/action/package_show\"\n",
    "endpoint_parameter = \"id\"\n",
    "parameter_value = \"data-for-geringste-konzentrationen-grosste-wirkung\"\n",
    "\n",
    "url = f\"{host}{api_endpoint}?{endpoint_parameter}={parameter_value}\"\n",
    "\n",
    "package_data = request_json_data(url)\n",
    "package_data"
   ]
  },
  {
   "cell_type": "markdown",
   "id": "ced09210-ea37-4ed7-8fae-c04c35fa042a",
   "metadata": {
    "editable": true,
    "slideshow": {
     "slide_type": ""
    },
    "tags": []
   },
   "source": [
    "A lot of data is returned. Let's only check your all resource links for this data package."
   ]
  },
  {
   "cell_type": "code",
   "execution_count": 3,
   "id": "aed8b6ef-4f98-4e06-9e8d-77402313f8da",
   "metadata": {
    "editable": true,
    "slideshow": {
     "slide_type": ""
    },
    "tags": []
   },
   "outputs": [
    {
     "data": {
      "text/plain": [
       "['https://opendata.eawag.ch/dataset/50eafcd5-27c2-40a1-95d6-fc671262ee92/resource/016e7298-77dc-4a2d-b73e-1b68df23d038/download/readme.txt',\n",
       " 'https://opendata.eawag.ch/dataset/50eafcd5-27c2-40a1-95d6-fc671262ee92/resource/f4e375c5-8cd5-4e7c-8ed2-1fe32409a002/download/pyrethroids2018.xlsx',\n",
       " 'https://opendata.eawag.ch/dataset/50eafcd5-27c2-40a1-95d6-fc671262ee92/resource/35c4dcfb-a4bf-4dc4-82cf-e3360d0f08e8/download/pyrethroids2017.xlsx']"
      ]
     },
     "execution_count": 3,
     "metadata": {},
     "output_type": "execute_result"
    }
   ],
   "source": [
    "resource_urls = [resource[\"url\"] for resource in package_data[\"result\"][\"resources\"]]\n",
    "resource_urls"
   ]
  },
  {
   "cell_type": "markdown",
   "id": "ee57af9c-6713-49a1-92c2-4df8f90d9586",
   "metadata": {
    "editable": true,
    "slideshow": {
     "slide_type": ""
    },
    "tags": []
   },
   "source": [
    "### Downloading resources\n",
    "In our previous example we use the [package_show](https://docs.ckan.org/en/2.9/api/#ckan.logic.action.get.package_show) endpoint the CKAN API to extract links of resources. In this example we will download those resources."
   ]
  },
  {
   "cell_type": "code",
   "execution_count": 4,
   "id": "a8551a9f-6575-46d7-aa2d-d1b31ba476a5",
   "metadata": {
    "editable": true,
    "slideshow": {
     "slide_type": ""
    },
    "tags": []
   },
   "outputs": [],
   "source": [
    "def download_resource(url: str, file_path:  str, token: str | None = None, chunk_size: int = 1024) -> None:\n",
    "    headers = {} if token is None else {'Authorization': token}\n",
    "    with urlopen(Request(url, headers=headers)) as response:\n",
    "        with open(file_path, 'wb') as file:\n",
    "            while True:\n",
    "                chunk = response.read(chunk_size)\n",
    "                if not chunk:\n",
    "                    break\n",
    "                file.write(chunk)\n"
   ]
  },
  {
   "cell_type": "markdown",
   "id": "c740b677-7111-4502-9a5f-84f4dfb397b1",
   "metadata": {
    "editable": true,
    "slideshow": {
     "slide_type": ""
    },
    "tags": []
   },
   "source": [
    "With the `download_resource` function with can iterate the previously extracted resources and download them."
   ]
  },
  {
   "cell_type": "code",
   "execution_count": 5,
   "id": "932bf5b3-720a-4c79-9fd4-acaa4da78ef6",
   "metadata": {
    "editable": true,
    "slideshow": {
     "slide_type": ""
    },
    "tags": []
   },
   "outputs": [
    {
     "name": "stdout",
     "output_type": "stream",
     "text": [
      "Successfully saved resource at: /tmp/readme.txt\n",
      "Successfully saved resource at: /tmp/pyrethroids2018.xlsx\n",
      "Successfully saved resource at: /tmp/pyrethroids2017.xlsx\n"
     ]
    }
   ],
   "source": [
    "for url in resource_urls:\n",
    "    file_path =f\"/tmp/{url.split('/')[-1]}\"\n",
    "    download_resource(url, file_path)\n",
    "    print(f\"Successfully saved resource at: {file_path}\")"
   ]
  },
  {
   "cell_type": "markdown",
   "id": "8efb408e-8215-4131-b7aa-bdcfa0e2c14a",
   "metadata": {
    "editable": true,
    "slideshow": {
     "slide_type": ""
    },
    "tags": []
   },
   "source": [
    "### Uploading resources\n",
    "In this scenario we assume you created a package on **ERIC/internal** called `data-for-project-x` and now you want to upload your many resources.\n",
    "\n",
    "```{important}\n",
    "This procedure will require an **API Token**.\n",
    "```\n",
    "\n",
    "::::{note}\n",
    "Uploads will take longer that the implemented progressbar shows. The progressbar will reach **100% after about 1/4 of the time need for the process to finish**. The reasons are very technical, if your want to know why please click below. **You will only notice this for large files.**\n",
    ":::{admonition} Technical reasons!\n",
    ":class: dropdown\n",
    "A file's journey from your computer across the network to its final \"resting place\" passes through several [proxies](https://docs.nginx.com/nginx/admin-guide/web-server/reverse-proxy/). Each of these proxies passes the data on to the next. The time shown in the progress bar is the time taken to upload the data to the first proxies. The additional time you have to wait is the time it takes for the various other proxies to copy the data from one to the other. \n",
    ":::\n",
    "::::\n",
    "\n",
    "\n",
    "For ease of use we will install 3 libraries via `pip install ...`:\n",
    " + `requests`\n",
    " + `requests_toolbelt`\n",
    " + `tqdm`\n",
    "\n",
    "The function below can be used to upload your data."
   ]
  },
  {
   "cell_type": "code",
   "execution_count": 6,
   "id": "cede0494-23bb-4f53-a6d9-cbdbfe5808ac",
   "metadata": {
    "editable": true,
    "slideshow": {
     "slide_type": ""
    },
    "tags": [
     "remove-cell"
    ]
   },
   "outputs": [
    {
     "name": "stdout",
     "output_type": "stream",
     "text": [
      "Requirement already satisfied: tqdm in /home/christian/.pyenv/versions/3.11.6/lib/python3.11/site-packages (4.66.1)\n",
      "Requirement already satisfied: requests in /home/christian/.pyenv/versions/3.11.6/lib/python3.11/site-packages (2.31.0)\n",
      "Requirement already satisfied: requests_toolbelt in /home/christian/.pyenv/versions/3.11.6/lib/python3.11/site-packages (1.0.0)\n",
      "Requirement already satisfied: charset-normalizer<4,>=2 in /home/christian/.pyenv/versions/3.11.6/lib/python3.11/site-packages (from requests) (3.3.2)\n",
      "Requirement already satisfied: idna<4,>=2.5 in /home/christian/.pyenv/versions/3.11.6/lib/python3.11/site-packages (from requests) (3.4)\n",
      "Requirement already satisfied: urllib3<3,>=1.21.1 in /home/christian/.pyenv/versions/3.11.6/lib/python3.11/site-packages (from requests) (2.0.7)\n",
      "Requirement already satisfied: certifi>=2017.4.17 in /home/christian/.pyenv/versions/3.11.6/lib/python3.11/site-packages (from requests) (2023.7.22)\n",
      "\n",
      "\u001b[1m[\u001b[0m\u001b[34;49mnotice\u001b[0m\u001b[1;39;49m]\u001b[0m\u001b[39;49m A new release of pip is available: \u001b[0m\u001b[31;49m23.3.1\u001b[0m\u001b[39;49m -> \u001b[0m\u001b[32;49m24.2\u001b[0m\n",
      "\u001b[1m[\u001b[0m\u001b[34;49mnotice\u001b[0m\u001b[1;39;49m]\u001b[0m\u001b[39;49m To update, run: \u001b[0m\u001b[32;49mpip install --upgrade pip\u001b[0m\n"
     ]
    }
   ],
   "source": [
    "!pip install tqdm requests requests_toolbelt"
   ]
  },
  {
   "cell_type": "code",
   "execution_count": 7,
   "id": "5e9a2f0b-d3d1-42b3-8875-066840166489",
   "metadata": {
    "editable": true,
    "slideshow": {
     "slide_type": ""
    },
    "tags": []
   },
   "outputs": [],
   "source": [
    "import pathlib\n",
    "\n",
    "import tqdm\n",
    "import requests\n",
    "from requests_toolbelt.multipart.encoder import (\n",
    "    MultipartEncoder,\n",
    "    MultipartEncoderMonitor,\n",
    ")\n",
    "\n",
    "\n",
    "class TqdmProgressCallback:\n",
    "    def __init__(self, total_size, filename):\n",
    "        self.bar = tqdm.tqdm(\n",
    "            total=total_size,\n",
    "            unit=\"B\",\n",
    "            unit_scale=True,\n",
    "            desc=f\"Uploading {filename}\",\n",
    "        )\n",
    "    def __call__(self, monitor):\n",
    "        self.bar.update(monitor.bytes_read - self.bar.n)\n",
    "        self.bar.refresh()\n",
    "\n",
    "    def close(self):\n",
    "        self.bar.close()\n",
    "\n",
    "def upload_resource(\n",
    "    file_path: pathlib.Path,\n",
    "    package_id: str,\n",
    "    token: str,\n",
    "    description: str = \"\",\n",
    "    resource_type: str = \"Dataset\",\n",
    "    restricted_level: str = \"public\",\n",
    "    state: str = \"active\",\n",
    "    host: str = \"https://data.eawag.ch\",\n",
    "    endpoint: str = \"/api/3/action/resource_create\",\n",
    "):\n",
    "    \n",
    "    file_name = file_path.name\n",
    "    file_size = file_path.stat().st_size\n",
    "    with open(file_path, \"rb\") as file_stream:\n",
    "        encoder = MultipartEncoder(\n",
    "            fields={\n",
    "                \"upload\": (\n",
    "                    file_name,\n",
    "                    file_stream,\n",
    "                    \"application/octet-stream\",\n",
    "                ),\n",
    "                \"package_id\": package_id,\n",
    "                \"name\": file_name,\n",
    "                \"description\": description,\n",
    "                \"state\": state,\n",
    "                \"size\": str(file_size),\n",
    "                \"resource_type\": resource_type,\n",
    "                \"restricted_level\": restricted_level,\n",
    "            }\n",
    "        )\n",
    "\n",
    "        progress_callback = TqdmProgressCallback(file_size, file_name)\n",
    "        monitor = MultipartEncoderMonitor(encoder, progress_callback)\n",
    "        \n",
    "        headers = {\"Authorization\": token, \"Content-Type\": monitor.content_type}\n",
    "\n",
    "        response = requests.post(\n",
    "            f\"{host}{endpoint}\",\n",
    "            data=monitor,\n",
    "            headers=headers,\n",
    "            auth=None,\n",
    "            stream=True,\n",
    "        )\n",
    "        progress_callback.close()\n",
    "        response.raise_for_status()\n"
   ]
  },
  {
   "cell_type": "markdown",
   "id": "d069f8b0-e0de-4c0d-90b5-58d6d137052f",
   "metadata": {
    "editable": true,
    "slideshow": {
     "slide_type": ""
    },
    "tags": []
   },
   "source": [
    "```{note}\n",
    "File paths should be passed as `pathlib.Path` objects to the `upload_resource` function.\n",
    "```\n",
    "\n",
    "Let's try it out. I prepared a folder full of test files."
   ]
  },
  {
   "cell_type": "code",
   "execution_count": 8,
   "id": "758b2373-b3c8-4a5a-abd0-c30e5beae497",
   "metadata": {
    "editable": true,
    "slideshow": {
     "slide_type": ""
    },
    "tags": [
     "remove-cell"
    ]
   },
   "outputs": [
    {
     "name": "stdout",
     "output_type": "stream",
     "text": [
      "rm: cannot remove '/tmp/upload-test': No such file or directory\n"
     ]
    }
   ],
   "source": [
    "!rm -rd \"/tmp/upload-test\""
   ]
  },
  {
   "cell_type": "code",
   "execution_count": 9,
   "id": "a3db4dac-fda6-499e-9ed3-e5f2c61c1fa2",
   "metadata": {
    "editable": true,
    "slideshow": {
     "slide_type": ""
    },
    "tags": [
     "remove-input"
    ]
   },
   "outputs": [
    {
     "name": "stdout",
     "output_type": "stream",
     "text": [
      "\u001b[01;34m/tmp/upload-test\u001b[0m\n",
      "├── random_file_1\n",
      "├── random_file_10\n",
      "├── random_file_11\n",
      "├── random_file_12\n",
      "├── random_file_13\n",
      "├── random_file_14\n",
      "├── random_file_15\n",
      "├── random_file_2\n",
      "├── random_file_3\n",
      "├── random_file_4\n",
      "├── random_file_5\n",
      "├── random_file_6\n",
      "├── random_file_7\n",
      "├── random_file_8\n",
      "└── random_file_9\n",
      "\n",
      "1 directory, 15 files\n"
     ]
    }
   ],
   "source": [
    "!mkdir -p \"/tmp/upload-test\"\n",
    "!for i in $(seq 1 15); do fallocate -l ${i}M \"/tmp/upload-test/random_file_$i\"; done\n",
    "!tree \"/tmp/upload-test\""
   ]
  },
  {
   "cell_type": "markdown",
   "id": "3b013f2e-83e3-47fb-84f0-85c9ccdfa67c",
   "metadata": {
    "editable": true,
    "slideshow": {
     "slide_type": ""
    },
    "tags": []
   },
   "source": [
    "In this example, we'll iterate over the entire contents of the \"`tmp/upload-test`\" folder and upload the contents if it's a file. To do this, we also need the package_id \"`data-for-project-x`\" that we want to upload to, and a valid token."
   ]
  },
  {
   "cell_type": "code",
   "execution_count": 10,
   "id": "e70c91e0-4f9b-4311-b6e9-d63ca2dd7a7a",
   "metadata": {
    "editable": true,
    "slideshow": {
     "slide_type": ""
    },
    "tags": []
   },
   "outputs": [],
   "source": [
    "your_token = \"...\"  # you must provide your token here\n",
    "your_package_id = \"data-for-project-x\"  # you must provide your token here\n",
    "data_package_folder = pathlib.Path(\"/tmp/upload-test/\")"
   ]
  },
  {
   "cell_type": "markdown",
   "id": "e496cead-91dc-45be-8910-00a1f9c04e23",
   "metadata": {
    "editable": true,
    "slideshow": {
     "slide_type": ""
    },
    "tags": []
   },
   "source": [
    "```python\n",
    "for candidate in data_package_folder.iterdir():\n",
    "    if not candidate.is_file():\n",
    "        continue\n",
    "    upload_resource(\n",
    "        file_path=candidate,\n",
    "        package_id=your_package_id,\n",
    "        token = your_token,\n",
    "        description = f\"This is the description for file {candidate}\",\n",
    "    )\n",
    "```\n",
    "\n",
    "```\n",
    "Uploading random_file_15: 15.7MB [00:01, 9.06MB/s]                        \n",
    "Uploading random_file_14: 14.7MB [00:01, 7.55MB/s]                        \n",
    "Uploading random_file_13: 13.6MB [00:01, 7.41MB/s]                        \n",
    "Uploading random_file_12: 12.6MB [00:01, 7.69MB/s]                        \n",
    "Uploading random_file_11: 11.5MB [00:01, 7.53MB/s]                        \n",
    "Uploading random_file_10: 10.5MB [00:01, 7.33MB/s]                        \n",
    "Uploading random_file_9: 9.44MB [00:01, 6.16MB/s]                         \n",
    "Uploading random_file_8: 8.39MB [00:01, 5.47MB/s]                         \n",
    "Uploading random_file_7: 7.34MB [00:01, 5.52MB/s]                         \n",
    "Uploading random_file_6: 6.29MB [00:01, 5.13MB/s]                         \n",
    "Uploading random_file_5: 5.24MB [00:01, 4.67MB/s]                         \n",
    "Uploading random_file_4: 4.20MB [00:01, 3.74MB/s]                         \n",
    "Uploading random_file_3: 3.15MB [00:01, 3.08MB/s]                         \n",
    "Uploading random_file_2: 2.10MB [00:01, 1.71MB/s]                         \n",
    "Uploading random_file_1: 1.05MB [00:01, 916kB/s]\n",
    "```"
   ]
  },
  {
   "cell_type": "code",
   "execution_count": null,
   "id": "26a3f774-2556-48d0-a1c1-08a2e4b62b76",
   "metadata": {
    "editable": true,
    "slideshow": {
     "slide_type": ""
    },
    "tags": []
   },
   "outputs": [],
   "source": []
  }
 ],
 "metadata": {
  "kernelspec": {
   "display_name": "Python 3 (ipykernel)",
   "language": "python",
   "name": "python3"
  },
  "language_info": {
   "codemirror_mode": {
    "name": "ipython",
    "version": 3
   },
   "file_extension": ".py",
   "mimetype": "text/x-python",
   "name": "python",
   "nbconvert_exporter": "python",
   "pygments_lexer": "ipython3",
   "version": "3.11.6"
  }
 },
 "nbformat": 4,
 "nbformat_minor": 5
}
