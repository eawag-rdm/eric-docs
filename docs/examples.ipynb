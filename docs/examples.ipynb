{
 "cells": [
  {
   "cell_type": "markdown",
   "id": "6ca9c5bb-e18c-494b-be67-4f6edfd222ff",
   "metadata": {},
   "source": [
    "# Examples"
   ]
  },
  {
   "cell_type": "markdown",
   "id": "99cee60b-459a-41b3-a356-a51efc04bfcb",
   "metadata": {
    "editable": true,
    "slideshow": {
     "slide_type": ""
    },
    "tags": []
   },
   "source": [
    "## Create a data package\n",
    "\n",
    "(package-creation-prerequisites)=\n",
    "```{admonition} Prerequisites\n",
    ":class: warning\n",
    "- You are in the Eawag Intranet - _otherwise you will not be able to access [data.eawag.ch](https://data.eawag.ch) (*{octicon}`alert-fill;1em` only accessible from Eawag intranet*) and will be forwarded to [opendata.eawag.ch](https://opendata.eawag.ch) our **read-only** portal_ .\n",
    "- You have an ERIC/internal account and editor permissions - _if your're unsure, please check the [first time user](first-time-eric-user) section_. \n",
    "```\n",
    "(readme-tip)=\n",
    "```{tip} \n",
    "Have some data ready for uploading. Since every data package should have a **ReadMe** file, you could start with that.\n",
    "```\n",
    "\n",
    "First we'll navigate to the package creation form.\n",
    "![create_package](_static/images/navigate_to_package_creation.gif)\n",
    "\n",
    "### Enter package metadata\n",
    "As you scroll through the form, you will see all the metadata you can enter at the package level. Metadata is very important for anyone (maybe even yourself in a few years time) who tries to work with the data you want to preserve/publish in ERIC. Take the time to fill in the various fields with your metadata. Required fields are marked with a red asterisk <font color='red'>*</font>. If you have any questions about how to fill in a field, click on the **information** button to the right of each field.\n",
    "::::{dropdown} Package Creation Form\n",
    ":color: info\n",
    ":icon: device-camera\n",
    "![scroll_form](_static/images/scroll_package_creation.gif)\n",
    "::::\n",
    "\n",
    "Some fields may not be easy to fill in. You can always [edit a data package](edit-a-data-package) **before publication**, if you're not sure what to enter. The **spatial extend** field may not be so easy to fill in. Please refer to the [adding spatial information](adding-spatial-information) section for copy and paste examples.\n",
    "\n",
    "Once you entered your metadata you can progress to uploading resources.\n",
    "::::{dropdown} Enter Resource Creation Form\n",
    ":color: info\n",
    ":icon: device-camera\n",
    "![add_resources](_static/images/add_resources.gif)\n",
    "::::\n",
    "\n",
    "### Upload resources\n",
    "\n",
    "Resources can be **files** or **links**. Most likey one will want to upload files, sometimes you also want to use links.\n",
    "\n",
    "#### Files\n",
    "As suggested [before](readme-tip) every data package should have a **ReadMe** file (*.txt*/*.md* both work). \n",
    "\n",
    "Once the file has been uploaded make you set the correct **resource type** and set desired **access restrictions**. Finally you can click **add**.\n",
    "\n",
    "::::{dropdown} Upload a ReadMe File\n",
    ":color: info\n",
    ":icon: device-camera\n",
    "![add_resources](_static/images/add_readme.gif)\n",
    "::::\n",
    "\n",
    "#### Links\n",
    "To create a **link** resource, click on `link` instead of `upload` and copy/paste the URL. Then set the metadata as you wish. \n",
    "\n",
    "A common reason to include a link is to point to a code repository (e.g. in [GitHub](https://github.com/), where the **code** used to work with the data is stored. If it's code, you should not only link to a repository, but also upload the actual scripts you used; as software changes over time, we want to make sure that the correct version of your code accompanies the data for which it was used.\n",
    "\n",
    "```{warning}\n",
    "**Links** are a way to point to external resources. Keep in mind that external links you put into your data package are not under Eawag's control. If the link disappears the resource will break.\n",
    "```"
   ]
  },
  {
   "cell_type": "markdown",
   "id": "cdf8682f-2cbf-4f1a-8a96-619244bbe242",
   "metadata": {},
   "source": [
    "(edit-a-data-package)=\n",
    "## Edit a data package\n",
    "\n",
    ":::{admonition} Important\n",
    ":class: error\n",
    "You can only edit your package until it is published. If you need to make changes after it has been published, you should create a new package and then release it as a new version.\n",
    ":::\n",
    "\n",
    "To edit a package first you need access your package on ERIC/internal. Once there, you can edit via pressing **Manage**. \n",
    "::::{dropdown} Edit a Data Package\n",
    ":color: info\n",
    ":icon: device-camera\n",
    "![add_resources](_static/images/enter_edit.gif)\n",
    "::::\n",
    "\n",
    "In this new view you can edit the **package metadata** as well as **edit** and **add resource.**\n",
    "::::{dropdown} Edit a Resource\n",
    ":color: info\n",
    ":icon: device-camera\n",
    "![add_resources](_static/images/edit_resources.gif)\n",
    "::::\n",
    "::::{dropdown} Add Resources later\n",
    ":color: info\n",
    ":icon: device-camera\n",
    "![add_resources](_static/images/add_resources_later.gif)\n",
    "::::"
   ]
  },
  {
   "cell_type": "markdown",
   "id": "1a26b96b-6c0b-449a-af96-6228347b4496",
   "metadata": {
    "editable": true,
    "slideshow": {
     "slide_type": ""
    },
    "tags": []
   },
   "source": [
    "(adding-spatial-information)=\n",
    "## Adding spatial information \n",
    "\n",
    "If you want your data package to be searchable via spatial information it is advised to add a **spatial extend**.\n",
    "Spatial extends can be specified in **GeoJSON**. Check out the official [examples](https://datatracker.ietf.org/doc/html/rfc7946#appendix-A).\n",
    "\n",
    "```{admonition} Unsupported **GeoJSON** formats\n",
    ":class: warning\n",
    "*GeometryCollection*, *FeatureCollections* and *FeatureObjects* are currently not supported.\n",
    "```\n",
    "\n",
    "```{warning}\n",
    "Coordinates must be specififed in the order **Longitude**, **Latitude**. Google maps pins are in the reverse order.\n",
    "```\n",
    "Below you can see examples for each supported string and how this will be displayed on a map."
   ]
  },
  {
   "cell_type": "code",
   "execution_count": 1,
   "id": "7194f245-7e6f-4ea5-89f3-8a1c7de6aba6",
   "metadata": {
    "editable": true,
    "slideshow": {
     "slide_type": ""
    },
    "tags": [
     "remove-cell"
    ]
   },
   "outputs": [],
   "source": [
    "import folium\n",
    "from IPython.display import display, Markdown\n",
    "from textwrap import dedent\n",
    "\n",
    "def show_example(data, source_point=[47.403845, 8.609776], zoom=13, generate_map=False, load_image=True):\n",
    "    \n",
    "    display(Markdown(f\"### {data['type']}\"))\n",
    "    display(Markdown(dedent(\n",
    "        f\"\"\"\n",
    "        ```python3\n",
    "        {data}\n",
    "        ```\n",
    "        \"\"\"\n",
    "    )))\n",
    "    if load_image:\n",
    "        _image_path = f\"_static/images/spatial-extend-{data['type'].lower()}.png\"\n",
    "        display(Markdown(f'![figure]({_image_path})'))\n",
    "    \n",
    "    if generate_map:\n",
    "        m = folium.Map(\n",
    "            location=source_point,\n",
    "            zoom_start=zoom,\n",
    "        )\n",
    "        folium.GeoJson(data).add_to(m)\n",
    "        display(m)\n"
   ]
  },
  {
   "cell_type": "code",
   "execution_count": 2,
   "id": "f245113d-1c21-4c2a-8651-010125ee3fb5",
   "metadata": {
    "editable": true,
    "slideshow": {
     "slide_type": ""
    },
    "tags": [
     "remove-input"
    ]
   },
   "outputs": [
    {
     "data": {
      "text/markdown": [
       "### Point"
      ],
      "text/plain": [
       "<IPython.core.display.Markdown object>"
      ]
     },
     "metadata": {},
     "output_type": "display_data"
    },
    {
     "data": {
      "text/markdown": [
       "\n",
       "```python3\n",
       "{'type': 'Point', 'coordinates': [8.609, 47.403]}\n",
       "```\n"
      ],
      "text/plain": [
       "<IPython.core.display.Markdown object>"
      ]
     },
     "metadata": {},
     "output_type": "display_data"
    },
    {
     "data": {
      "text/markdown": [
       "![figure](_static/images/spatial-extend-point.png)"
      ],
      "text/plain": [
       "<IPython.core.display.Markdown object>"
      ]
     },
     "metadata": {},
     "output_type": "display_data"
    }
   ],
   "source": [
    "show_example(\n",
    "    {\"type\": \"Point\", \"coordinates\": [8.609, 47.403]}\n",
    ")  "
   ]
  },
  {
   "cell_type": "code",
   "execution_count": 47,
   "id": "9ce9b45d-5954-40ee-a21f-b897c514bfdc",
   "metadata": {
    "editable": true,
    "slideshow": {
     "slide_type": ""
    },
    "tags": [
     "remove-input"
    ]
   },
   "outputs": [
    {
     "data": {
      "text/markdown": [
       "### MultiPoint"
      ],
      "text/plain": [
       "<IPython.core.display.Markdown object>"
      ]
     },
     "metadata": {},
     "output_type": "display_data"
    },
    {
     "data": {
      "text/markdown": [
       "\n",
       "```python3\n",
       "{'type': 'MultiPoint', 'coordinates': [[8.609, 47.403], [8.61, 47.409]]}\n",
       "```\n"
      ],
      "text/plain": [
       "<IPython.core.display.Markdown object>"
      ]
     },
     "metadata": {},
     "output_type": "display_data"
    },
    {
     "data": {
      "text/markdown": [
       "![figure](_static/images/spatial-extend-multipoint.png)"
      ],
      "text/plain": [
       "<IPython.core.display.Markdown object>"
      ]
     },
     "metadata": {},
     "output_type": "display_data"
    }
   ],
   "source": [
    "show_example(\n",
    "    {\"type\": \"MultiPoint\", \"coordinates\": [[8.609, 47.403], [8.610, 47.409]]}\n",
    ")  "
   ]
  },
  {
   "cell_type": "code",
   "execution_count": 53,
   "id": "664052fa-32cc-4667-877b-edb6ac84bf3d",
   "metadata": {
    "editable": true,
    "slideshow": {
     "slide_type": ""
    },
    "tags": [
     "remove-input"
    ]
   },
   "outputs": [
    {
     "data": {
      "text/markdown": [
       "### LineString"
      ],
      "text/plain": [
       "<IPython.core.display.Markdown object>"
      ]
     },
     "metadata": {},
     "output_type": "display_data"
    },
    {
     "data": {
      "text/markdown": [
       "\n",
       "```python3\n",
       "{'type': 'LineString', 'coordinates': [[8.609, 47.403], [8.61, 47.409]]}\n",
       "```\n"
      ],
      "text/plain": [
       "<IPython.core.display.Markdown object>"
      ]
     },
     "metadata": {},
     "output_type": "display_data"
    },
    {
     "data": {
      "text/markdown": [
       "![figure](_static/images/spatial-extend-linestring.png)"
      ],
      "text/plain": [
       "<IPython.core.display.Markdown object>"
      ]
     },
     "metadata": {},
     "output_type": "display_data"
    }
   ],
   "source": [
    "show_example(\n",
    "    {\"type\": \"LineString\", \"coordinates\": [[8.609, 47.403],[8.610, 47.409]]}, \n",
    "    zoom=14,\n",
    ") "
   ]
  },
  {
   "cell_type": "code",
   "execution_count": 49,
   "id": "3e4ad58b-12f9-4dcf-a2dc-e9f8e246a5fe",
   "metadata": {
    "editable": true,
    "slideshow": {
     "slide_type": ""
    },
    "tags": [
     "remove-input"
    ]
   },
   "outputs": [
    {
     "data": {
      "text/markdown": [
       "### MultiLineString"
      ],
      "text/plain": [
       "<IPython.core.display.Markdown object>"
      ]
     },
     "metadata": {},
     "output_type": "display_data"
    },
    {
     "data": {
      "text/markdown": [
       "\n",
       "```python3\n",
       "{'type': 'MultiLineString', 'coordinates': [[[8.609, 47.403], [8.61, 47.409]], [[8.619, 47.413], [8.62, 47.419]]]}\n",
       "```\n"
      ],
      "text/plain": [
       "<IPython.core.display.Markdown object>"
      ]
     },
     "metadata": {},
     "output_type": "display_data"
    },
    {
     "data": {
      "text/markdown": [
       "![figure](_static/images/spatial-extend-multilinestring.png)"
      ],
      "text/plain": [
       "<IPython.core.display.Markdown object>"
      ]
     },
     "metadata": {},
     "output_type": "display_data"
    }
   ],
   "source": [
    "show_example(\n",
    "    {\"type\": \"MultiLineString\", \"coordinates\": [[[8.609, 47.403],[8.610, 47.409]], [[8.619, 47.413],[8.620, 47.419]]]},\n",
    ") "
   ]
  },
  {
   "cell_type": "code",
   "execution_count": 50,
   "id": "ba750859-302c-47d4-b9ea-d6e657b8f8ea",
   "metadata": {
    "editable": true,
    "slideshow": {
     "slide_type": ""
    },
    "tags": [
     "remove-input"
    ]
   },
   "outputs": [
    {
     "data": {
      "text/markdown": [
       "### Polygon"
      ],
      "text/plain": [
       "<IPython.core.display.Markdown object>"
      ]
     },
     "metadata": {},
     "output_type": "display_data"
    },
    {
     "data": {
      "text/markdown": [
       "\n",
       "```python3\n",
       "{'type': 'Polygon', 'coordinates': [[[8.609, 47.403], [8.61, 47.409], [8.62, 47.419], [8.619, 47.413]]]}\n",
       "```\n"
      ],
      "text/plain": [
       "<IPython.core.display.Markdown object>"
      ]
     },
     "metadata": {},
     "output_type": "display_data"
    },
    {
     "data": {
      "text/markdown": [
       "![figure](_static/images/spatial-extend-polygon.png)"
      ],
      "text/plain": [
       "<IPython.core.display.Markdown object>"
      ]
     },
     "metadata": {},
     "output_type": "display_data"
    }
   ],
   "source": [
    "show_example(\n",
    "    {\"type\": \"Polygon\", \"coordinates\": [[[8.609, 47.403],[8.610, 47.409],[8.620, 47.419], [8.619, 47.413]]]},\n",
    ")  "
   ]
  },
  {
   "cell_type": "code",
   "execution_count": 51,
   "id": "1e481416-f7ed-44dd-a868-857a545f12a3",
   "metadata": {
    "editable": true,
    "slideshow": {
     "slide_type": ""
    },
    "tags": [
     "remove-input"
    ]
   },
   "outputs": [
    {
     "data": {
      "text/markdown": [
       "### MultiPolygon"
      ],
      "text/plain": [
       "<IPython.core.display.Markdown object>"
      ]
     },
     "metadata": {},
     "output_type": "display_data"
    },
    {
     "data": {
      "text/markdown": [
       "\n",
       "```python3\n",
       "{'type': 'MultiPolygon', 'coordinates': [[[[8.609, 47.403], [8.61, 47.409], [8.62, 47.419], [8.619, 47.413]]], [[[8.589, 47.383], [8.59, 47.389], [8.6, 47.399], [8.599, 47.393]]]]}\n",
       "```\n"
      ],
      "text/plain": [
       "<IPython.core.display.Markdown object>"
      ]
     },
     "metadata": {},
     "output_type": "display_data"
    },
    {
     "data": {
      "text/markdown": [
       "![figure](_static/images/spatial-extend-multipolygon.png)"
      ],
      "text/plain": [
       "<IPython.core.display.Markdown object>"
      ]
     },
     "metadata": {},
     "output_type": "display_data"
    }
   ],
   "source": [
    "show_example(\n",
    "    {\"type\": \"MultiPolygon\", \"coordinates\": [[[[8.609, 47.403],[8.610, 47.409],[8.620, 47.419], [8.619, 47.413]]], [[[8.589, 47.383],[8.590, 47.389],[8.600, 47.399], [8.599, 47.393]]]]},\n",
    ")  "
   ]
  },
  {
   "cell_type": "markdown",
   "id": "0c9ceb14-20ea-4db0-93e7-d94de12572db",
   "metadata": {
    "editable": true,
    "slideshow": {
     "slide_type": ""
    },
    "tags": []
   },
   "source": [
    "```{warning}\n",
    "**Polygons** defined in a **MultiPolygon** may not overlap!\n",
    "```"
   ]
  },
  {
   "cell_type": "markdown",
   "id": "b65b4898-3437-4ffa-8b6c-e411c82b32c7",
   "metadata": {},
   "source": [
    "## Set up a preview for you resources\n",
    "\n",
    "This chapter is coming soon."
   ]
  },
  {
   "cell_type": "code",
   "execution_count": null,
   "id": "7e6e06c0-86d1-449a-a369-eb77da2ccbe8",
   "metadata": {
    "editable": true,
    "slideshow": {
     "slide_type": ""
    },
    "tags": []
   },
   "outputs": [],
   "source": []
  },
  {
   "cell_type": "code",
   "execution_count": null,
   "id": "ec442a99-ac6d-4ba1-8145-a60eb0b728b9",
   "metadata": {
    "editable": true,
    "slideshow": {
     "slide_type": ""
    },
    "tags": []
   },
   "outputs": [],
   "source": []
  },
  {
   "cell_type": "code",
   "execution_count": null,
   "id": "0200baf1-5eda-4f40-adf5-f663594fb82d",
   "metadata": {
    "editable": true,
    "slideshow": {
     "slide_type": ""
    },
    "tags": []
   },
   "outputs": [],
   "source": []
  },
  {
   "cell_type": "code",
   "execution_count": null,
   "id": "c936b5da-9ad2-48ba-97fe-7d19a0e8cbab",
   "metadata": {
    "editable": true,
    "slideshow": {
     "slide_type": ""
    },
    "tags": []
   },
   "outputs": [],
   "source": []
  },
  {
   "cell_type": "code",
   "execution_count": null,
   "id": "be506e63-f7aa-43b5-9a3c-6b92551ed8f3",
   "metadata": {
    "editable": true,
    "slideshow": {
     "slide_type": ""
    },
    "tags": []
   },
   "outputs": [],
   "source": []
  },
  {
   "cell_type": "code",
   "execution_count": null,
   "id": "3554d441-660f-437b-856b-eedc7151ee10",
   "metadata": {
    "editable": true,
    "slideshow": {
     "slide_type": ""
    },
    "tags": []
   },
   "outputs": [],
   "source": []
  },
  {
   "cell_type": "code",
   "execution_count": null,
   "id": "fe9f2049-04d9-420c-ac9c-2adffea180c6",
   "metadata": {
    "editable": true,
    "slideshow": {
     "slide_type": ""
    },
    "tags": []
   },
   "outputs": [],
   "source": []
  }
 ],
 "metadata": {
  "kernelspec": {
   "display_name": "Python 3 (ipykernel)",
   "language": "python",
   "name": "python3"
  },
  "language_info": {
   "codemirror_mode": {
    "name": "ipython",
    "version": 3
   },
   "file_extension": ".py",
   "mimetype": "text/x-python",
   "name": "python",
   "nbconvert_exporter": "python",
   "pygments_lexer": "ipython3",
   "version": "3.11.6"
  }
 },
 "nbformat": 4,
 "nbformat_minor": 5
}
