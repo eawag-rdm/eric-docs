{
 "cells": [
  {
   "cell_type": "markdown",
   "id": "019d8b97-fa3a-4f57-814a-00d0fb74c933",
   "metadata": {},
   "source": [
    "# Frequently Asked Questions"
   ]
  },
  {
   "cell_type": "markdown",
   "id": "a0c34862-0ab2-4333-8f83-53ccdcdd3214",
   "metadata": {
    "editable": true,
    "slideshow": {
     "slide_type": ""
    },
    "tags": []
   },
   "source": [
    "::::{dropdown} **What is a DOI?**\n",
    ":icon: discussion-closed\n",
    "And here's my dropdown content\n",
    "A DOI (Digital Object Identifier) is a string of characters, such as `10.25678/000066`, that is registered in a global registry and associated with a URL, such as `https://doi.org/10.25678/000066`, that redirects to the location of the document, dataset or its landing page.\n",
    "\n",
    "DOIs are also associated with metadata (pretty much everything that you submit when you create a *data package* in ERIC), which feeds into global search services, such as [search.datacite.org](https://search.datacite.org/works?query=Eawag) or [Google Dataset Search](https://toolbox.google.com/datasetsearch/search?query=Eawag), making your work more visible.\n",
    "\n",
    "DOIs exist in two states, **draft** and **published**. A draft DOI is not yet publicly available, which means that the data it is reserved for can still be modified. Once a DOI has been published, the data it refers to can no longer be modified. At this point the data is **immutable**.\n",
    "\n",
    ":::{warning}\n",
    "In case an error is detected in a dataset that already has a DOI, a new version with a new DOI has to be created and linked back to the erroneous dataset and DOI. This is a tedious and manual process.\n",
    ":::\n",
    "\n",
    ":::{tip}\n",
    "Some metadata associated with a DOI can be updated.\n",
    ":::\n",
    "::::"
   ]
  },
  {
   "cell_type": "markdown",
   "id": "35bd9dba-c9fd-40fa-9476-42a1b698c206",
   "metadata": {
    "editable": true,
    "slideshow": {
     "slide_type": ""
    },
    "tags": []
   },
   "source": [
    "::::{dropdown} **How do I get a DOI?**\n",
    ":icon: discussion-closed\n",
    "\n",
    "A DOI is automatically assigned to all Eawag Open Research Data (data packages published on ERIC/open). \n",
    "\n",
    "If you need a DOI before publishing the data package (e.g. for your manuscript), please contact [rdm@eawag.ch](mailto:rdm@eawag.ch) and specify the data package on ERIC/internal for which the DOI is required.\n",
    "\n",
    "\n",
    "\n",
    ":::{admonition} Step by step\n",
    ":class: tip, dropdown\n",
    "\n",
    "1. Make an internal *data package* and submit it to [ERIC/internal](https://data.eawag.ch) (*{octicon}`alert-fill;1em` only accessible from Eawag intranet*).\n",
    "2. Notify [rdm@eawag.ch](mailto:rdm@eawag.ch) that you would like to **reserve a DOI** for this package. This means that you will get a DOI-string that is not registered, the associated URL will not resolve, but nobody else can use that DOI.\n",
    "3. Once the dataset is ready for publication, notify [rdm@eawag.ch](mailto:rdm@eawag.ch).\n",
    ":::\n",
    "\n",
    ":::{warning}\n",
    "It is your responsibility to eventually provide a public dataset that can be associated with the DOI. A DOI in print that doesn't resolve is a **very bad thing**.\n",
    ":::\n",
    "::::"
   ]
  },
  {
   "cell_type": "markdown",
   "id": "77ec6673-17c9-4d75-9c71-6c1faadedb98",
   "metadata": {
    "editable": true,
    "slideshow": {
     "slide_type": ""
    },
    "tags": []
   },
   "source": [
    "::::{dropdown} **How to make data available to the reviewer before the final version can be published.**\n",
    ":icon: discussion-closed\n",
    "\n",
    "We recommend making an internal *data package* and submitting it to [ERIC/internal](https://data.eawag.ch) (*{octicon}`alert-fill;1em` only accessible from Eawag intranet*). Internal packages can always be edited. Then make the data available to the reviewer by uploading it to [SwitchDrive](https://drive.switch.ch). Notify [rdm@eawag.ch](mailto:rdm@eawag.ch) to trigger external publication once the dataset is not expected to change anymore."
   ]
  },
  {
   "cell_type": "markdown",
   "id": "7014dfe5-79d0-47c6-b67c-992a10665c6d",
   "metadata": {},
   "source": [
    "::::{dropdown} **How do I publish my data package**\n",
    ":icon: discussion-closed\n",
    "\n",
    "Please the see the corresponding [section](publish-data-package) in the Open Research Data chapter.\n",
    "::::"
   ]
  },
  {
   "cell_type": "markdown",
   "id": "5e82506e-b7b1-48ae-855f-1eb0ccef6300",
   "metadata": {},
   "source": [
    "::::{dropdown} **I have no idea what I am doing - how to get started?**\n",
    ":icon: discussion-closed\n",
    "\n",
    "Please the see the [quickstart guide](quickstart-guide).\n",
    "::::"
   ]
  },
  {
   "cell_type": "code",
   "execution_count": null,
   "id": "3233ab1e-1e83-489c-bf03-b59b78cfb98e",
   "metadata": {
    "editable": true,
    "slideshow": {
     "slide_type": ""
    },
    "tags": []
   },
   "outputs": [],
   "source": []
  }
 ],
 "metadata": {
  "kernelspec": {
   "display_name": "Python 3 (ipykernel)",
   "language": "python",
   "name": "python3"
  },
  "language_info": {
   "codemirror_mode": {
    "name": "ipython",
    "version": 3
   },
   "file_extension": ".py",
   "mimetype": "text/x-python",
   "name": "python",
   "nbconvert_exporter": "python",
   "pygments_lexer": "ipython3",
   "version": "3.11.6"
  }
 },
 "nbformat": 4,
 "nbformat_minor": 5
}
